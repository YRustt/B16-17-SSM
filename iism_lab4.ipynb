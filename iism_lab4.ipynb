{
 "cells": [
  {
   "cell_type": "code",
   "execution_count": 18,
   "metadata": {
    "collapsed": true
   },
   "outputs": [],
   "source": [
    "from iism_lab2 import a5_generator\n",
    "import numpy as np\n",
    "\n",
    "\n",
    "def get_a5_generator():\n",
    "    S19 = np.random.randint(2, size=19)\n",
    "    S22 = np.random.randint(2, size=22)\n",
    "    S23 = np.random.randint(2, size=23)\n",
    "    gen = a5_generator(S19, S22, S23)\n",
    "    return gen\n",
    "\n",
    "\n",
    "def uniform_psi(gen, n=100):\n",
    "    while True:\n",
    "        yield (int(''.join([str(next(gen)) for _ in range(n)]), 2) + 1) / (2 ** n + 1)"
   ]
  },
  {
   "cell_type": "markdown",
   "metadata": {},
   "source": [
    "$$\\int_{88}^{99} \\ln{(x)}\\cdot\\sin{(x)} dx = \\int_{88}^{99} \\frac{1}{11} \\cdot 11 \\cdot \\ln{(x)}\\cdot \\sin{(x)} = E\\{11\\cdot\\ln{(x)}\\cdot\\sin{(x)}\\}\\approx \\frac{1}{n}\\sum_{i=1}^{n} 11 \\cdot \\ln{(x_i)}\\sin{(x_i)}$$"
   ]
  },
  {
   "cell_type": "code",
   "execution_count": 23,
   "metadata": {},
   "outputs": [
    {
     "name": "stdout",
     "output_type": "stream",
     "text": [
      "93.5384319013\n"
     ]
    }
   ],
   "source": [
    "psi = uniform_psi(get_a5_generator())\n",
    "exps = np.array([11 * next(psi) + 88 for _ in range(2000)])\n",
    "print(np.mean(exps))"
   ]
  },
  {
   "cell_type": "markdown",
   "metadata": {},
   "source": [
    "$4.2818$"
   ]
  },
  {
   "cell_type": "code",
   "execution_count": 24,
   "metadata": {},
   "outputs": [
    {
     "name": "stdout",
     "output_type": "stream",
     "text": [
      "4.29545784238\n"
     ]
    }
   ],
   "source": [
    "value = np.mean(11 * np.log(exps) * np.sin(exps))\n",
    "print(value)"
   ]
  },
  {
   "cell_type": "markdown",
   "metadata": {},
   "source": [
    "$$\\iint\\limits_{|x| + |y| < 1}\\frac{x^3+3xy}{e^{-y}}dxdy$$"
   ]
  }
 ],
 "metadata": {
  "kernelspec": {
   "display_name": "Python 2",
   "language": "python",
   "name": "python2"
  },
  "language_info": {
   "codemirror_mode": {
    "name": "ipython",
    "version": 2.0
   },
   "file_extension": ".py",
   "mimetype": "text/x-python",
   "name": "python",
   "nbconvert_exporter": "python",
   "pygments_lexer": "ipython2",
   "version": "2.7.6"
  }
 },
 "nbformat": 4,
 "nbformat_minor": 0
}