{
 "cells": [
  {
   "cell_type": "code",
   "execution_count": 1,
   "metadata": {
    "collapsed": true
   },
   "outputs": [],
   "source": [
    "from iism_lab2 import a5_generator\n",
    "import numpy as np\n",
    "\n",
    "\n",
    "def get_a5_generator():\n",
    "    S19 = np.random.randint(2, size=19)\n",
    "    S22 = np.random.randint(2, size=22)\n",
    "    S23 = np.random.randint(2, size=23)\n",
    "    gen = a5_generator(S19, S22, S23)\n",
    "    return gen\n",
    "\n",
    "\n",
    "def uniform_psi(gen, n=10):\n",
    "    while True:\n",
    "        yield (int(''.join([str(next(gen)) for _ in range(n)]), 2) + 1) / (2 ** n + 1)"
   ]
  },
  {
   "cell_type": "markdown",
   "metadata": {},
   "source": [
    "$$\\int_{88}^{99} \\ln{(x)}\\cdot\\sin{(x)} dx = \\int_{88}^{99} \\frac{1}{11} \\cdot 11 \\cdot \\ln{(x)}\\cdot \\sin{(x)} = E\\{11\\cdot\\ln{(x)}\\cdot\\sin{(x)}\\}\\approx \\frac{1}{n}\\sum_{i=1}^{n} 11 \\cdot \\ln{(x_i)}\\sin{(x_i)}$$"
   ]
  },
  {
   "cell_type": "code",
   "execution_count": 15,
   "metadata": {
    "collapsed": false
   },
   "outputs": [
    {
     "name": "stdout",
     "output_type": "stream",
     "text": [
      "93.521962439\n"
     ]
    }
   ],
   "source": [
    "psi = uniform_psi(get_a5_generator())\n",
    "exps = np.array([11 * next(psi) + 88 for _ in range(2000)])\n",
    "print(np.mean(exps))"
   ]
  },
  {
   "cell_type": "markdown",
   "metadata": {},
   "source": [
    "$4.2818$"
   ]
  },
  {
   "cell_type": "code",
   "execution_count": 16,
   "metadata": {
    "collapsed": false
   },
   "outputs": [
    {
     "name": "stdout",
     "output_type": "stream",
     "text": [
      "4.3075411555\n"
     ]
    }
   ],
   "source": [
    "value = np.mean(11 * np.log(exps) * np.sin(exps))\n",
    "print(value)"
   ]
  },
  {
   "cell_type": "code",
   "execution_count": 29,
   "metadata": {
    "collapsed": false
   },
   "outputs": [
    {
     "name": "stdout",
     "output_type": "stream",
     "text": [
      "4.26459149058\n"
     ]
    }
   ],
   "source": [
    "exps = np.random.uniform(low=88, high=99, size=100000)\n",
    "value = np.mean(11 * np.log(exps) * np.sin(exps))\n",
    "print(value)"
   ]
  },
  {
   "cell_type": "markdown",
   "metadata": {},
   "source": [
    "Теперь решим $$\\iint\\limits_{|x| + |y| < 1}\\frac{x^3+3xy}{e^{-y}}dxdy = \\iint\\limits_{|x| + |y| < 1} \\frac{1}{2} \\cdot 2 \\cdot \\frac{x^3 + 3xy}{e^{-y}}dxdy \\approx \\frac{1}{n} \\sum\\limits_{i=1}^{n} 2 \\cdot \\frac{x_i^3 + 3x_iy_i}{e^{-y_i}}$$"
   ]
  },
  {
   "cell_type": "markdown",
   "metadata": {},
   "source": [
    "Правильное значение: $0$"
   ]
  },
  {
   "cell_type": "code",
   "execution_count": 4,
   "metadata": {
    "collapsed": false
   },
   "outputs": [
    {
     "name": "stdout",
     "output_type": "stream",
     "text": [
      "1.20185757916e-05\n"
     ]
    }
   ],
   "source": [
    "exps = np.random.uniform(low=-1/2**0.5, high=1/2**0.5, size=(10000, 2))\n",
    "M = np.array([[np.cos(np.pi / 4), -np.sin(np.pi / 4)], \n",
    "              [np.sin(np.pi / 4), np.cos(np.pi / 4)]])\n",
    "for i in range(len(exps)):\n",
    "    exps[i] = (M.dot(exps[i].reshape((2, 1)))).reshape((1, 2))\n",
    "x, y = exps.reshape((2, 10000))\n",
    "value = np.mean(2 * (x ** 3 + 3 * x * y) / np.exp(-y))\n",
    "print(value)"
   ]
  },
  {
   "cell_type": "markdown",
   "metadata": {},
   "source": [
    "Решим систему $x = Ax + f$ методом Монте-Карло"
   ]
  },
  {
   "cell_type": "code",
   "execution_count": 2,
   "metadata": {},
   "outputs": [
    {
     "name": "stdout",
     "output_type": "stream",
     "text": [
      "(37, 37) (37,)\n"
     ]
    }
   ],
   "source": [
    "data = np.genfromtxt('data/Юнусов.txt', delimiter=' ')\n",
    "A, f = data[:-1], data[-1]\n",
    "print(A.shape, f.shape)"
   ]
  },
  {
   "cell_type": "markdown",
   "metadata": {},
   "source": [
    "Как видим, все собственные значения матрицы меньше 1"
   ]
  },
  {
   "cell_type": "code",
   "execution_count": 3,
   "metadata": {},
   "outputs": [
    {
     "data": {
      "text/plain": [
       "0.0576739"
      ]
     },
     "execution_count": 3,
     "metadata": {},
     "output_type": "execute_result"
    }
   ],
   "source": [
    "np.max(A)"
   ]
  },
  {
   "cell_type": "code",
   "execution_count": 11,
   "metadata": {},
   "outputs": [
    {
     "name": "stdout",
     "output_type": "stream",
     "text": [
      "-0.00875601503225\n-0.0116750194937\n-0.00238197167137\n-0.000603520518509\n-0.000163411487571\n-4.45742467821e-05\n-1.21214950313e-05\n-3.27321585059e-06\n-8.8382187885e-07\n"
     ]
    }
   ],
   "source": [
    "from copy import deepcopy\n",
    "x_new = deepcopy(f)\n",
    "x_prev = deepcopy(f) - 1000\n",
    "while abs(np.max(x_prev - x_new)) > 0.00001:\n",
    "    x_prev = deepcopy(x_new)\n",
    "    x_new = A.dot(x_new) + f\n",
    "    print(np.max(x_new - A.dot(x_new) - f))"
   ]
  },
  {
   "cell_type": "code",
   "execution_count": 32,
   "metadata": {},
   "outputs": [
    {
     "name": "stdout",
     "output_type": "stream",
     "text": [
      "[ 10.85296693   0.84128871   9.30525122   7.33215852   3.3569751\n   2.63917693   3.85993334   8.38740367  10.24436007   6.67062109\n   5.86132497   7.1921812    1.73229571   7.16899014   0.94713827\n   0.55360973   0.10811483   1.24843684   6.30589079   7.33458821\n  10.91506338   7.0427061    3.80036138   2.33197014   8.26718437\n   2.47309046   8.59810746   4.52422117   8.22380042   7.36867354\n   7.00929838   5.30436508   7.24559433   0.81625808   0.2610028\n   2.29364764   0.        ]\n1.13205175471\n"
     ]
    }
   ],
   "source": [
    "N, m = 1000, 10000\n",
    "H = np.eye(37)\n",
    "\n",
    "result = []\n",
    "for l in range(37):\n",
    "    Q, ksi = [None] * (N + 1), [0.] * m\n",
    "    for j in range(m):\n",
    "        i = []\n",
    "        for k in range(N + 1):\n",
    "            # Предполагаем, что начальные состояния и \n",
    "            # переходы равновероятны\n",
    "            alpha = np.random.randint(low=0, high=36)\n",
    "            i.append(alpha)\n",
    "        Q[0] = H[l][i[0]] * 37\n",
    "        for k in range(1, N + 1):\n",
    "            Q[k] = Q[k - 1] * A[i[k - 1]][i[k]] * 37\n",
    "        for k in range(N + 1):\n",
    "            ksi[j] += Q[k] * f[i[k]]\n",
    "    result.append(np.mean(ksi))\n",
    "\n",
    "result = np.array(result)\n",
    "print(result)\n",
    "print(np.max(result - A.dot(result) - f))"
   ]
  },
  {
   "cell_type": "code",
   "execution_count": 33,
   "metadata": {},
   "outputs": [
    {
     "name": "stdout",
     "output_type": "stream",
     "text": [
      "[ 1.02795646  0.02165248  0.34585369  0.49356945  0.39715734 -0.10640843\n -0.09654002  0.29834721  1.05423693  0.33653769  0.32726278  0.67008707\n  0.1158134   0.34931456  0.21926865 -0.0534122  -0.0170049   0.43311519\n -0.21014583  0.84284058  1.13205175 -0.65714586  0.06795861  0.01351712\n -0.14045664  0.20113266  0.90681266 -0.02401769 -0.597361    0.32508542\n  0.5363362   0.13705238  0.17533025  0.63487407 -0.41877157 -0.40547782\n -2.85439163]\n"
     ]
    }
   ],
   "source": [
    "print(result - A.dot(result) - f)"
   ]
  }
 ],
 "metadata": {
  "kernelspec": {
   "display_name": "Python 3",
   "language": "python",
   "name": "python3"
  },
  "language_info": {
   "codemirror_mode": {
    "name": "ipython",
    "version": 3.0
   },
   "file_extension": ".py",
   "mimetype": "text/x-python",
   "name": "python",
   "nbconvert_exporter": "python",
   "pygments_lexer": "ipython3",
   "version": "3.5.2"
  }
 },
 "nbformat": 4,
 "nbformat_minor": 0
}