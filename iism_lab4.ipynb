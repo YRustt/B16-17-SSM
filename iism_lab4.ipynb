{
 "cells": [
  {
   "cell_type": "code",
   "execution_count": 1,
   "metadata": {
    "collapsed": true
   },
   "outputs": [],
   "source": [
    "from iism_lab2 import a5_generator\n",
    "\n",
    "\n",
    "def get_a5_generator():\n",
    "    S19 = np.random.randint(2, size=19)\n",
    "    S22 = np.random.randint(2, size=22)\n",
    "    S23 = np.random.randint(2, size=23)\n",
    "    gen = a5_generator(S19, S22, S23)\n",
    "    return gen\n",
    "\n",
    "\n",
    "def uniform_psi(gen, n=10):\n",
    "    while True:\n",
    "        yield (int(''.join([str(next(gen)) for _ in range(n)]), 2) + 1) / (2 ** n + 1)"
   ]
  },
  {
   "cell_type": "markdown",
   "metadata": {},
   "source": [
    "$$\\frac{1}{n}$$"
   ]
  },
  {
   "cell_type": "code",
   "execution_count": null,
   "metadata": {},
   "outputs": [],
   "source": [
    ""
   ]
  }
 ],
 "metadata": {
  "kernelspec": {
   "display_name": "Python 2",
   "language": "python",
   "name": "python2"
  },
  "language_info": {
   "codemirror_mode": {
    "name": "ipython",
    "version": 2.0
   },
   "file_extension": ".py",
   "mimetype": "text/x-python",
   "name": "python",
   "nbconvert_exporter": "python",
   "pygments_lexer": "ipython2",
   "version": "2.7.6"
  }
 },
 "nbformat": 4,
 "nbformat_minor": 0
}