{
 "cells": [
  {
   "cell_type": "code",
   "execution_count": 1,
   "metadata": {
    "collapsed": true
   },
   "outputs": [],
   "source": [
    "from iism_lab2 import a5_generator\n",
    "import numpy as np\n",
    "\n",
    "\n",
    "def get_a5_generator():\n",
    "    S19 = np.random.randint(2, size=19)\n",
    "    S22 = np.random.randint(2, size=22)\n",
    "    S23 = np.random.randint(2, size=23)\n",
    "    gen = a5_generator(S19, S22, S23)\n",
    "    return gen\n",
    "\n",
    "\n",
    "def uniform_psi(gen, n=10):\n",
    "    while True:\n",
    "        yield (int(''.join([str(next(gen)) for _ in range(n)]), 2) + 1) / (2 ** n + 1)"
   ]
  },
  {
   "cell_type": "markdown",
   "metadata": {},
   "source": [
    "$$\\int_{88}^{99} \\ln{(x)}\\cdot\\sin{(x)} dx = \\int_{88}^{99} \\frac{1}{11} \\cdot 11 \\cdot \\ln{(x)}\\cdot \\sin{(x)} = E\\{11\\cdot\\ln{(x)}\\cdot\\sin{(x)}\\}\\approx \\frac{1}{n}\\sum_{i=1}^{n} 11 \\cdot \\ln{(x_i)}\\sin{(x_i)}$$"
   ]
  },
  {
   "cell_type": "code",
   "execution_count": 2,
   "metadata": {},
   "outputs": [
    {
     "name": "stdout",
     "output_type": "stream",
     "text": [
      "93.5477292683\n"
     ]
    }
   ],
   "source": [
    "psi = uniform_psi(get_a5_generator())\n",
    "exps = np.array([11 * next(psi) + 88 for _ in range(2000)])\n",
    "print(np.mean(exps))"
   ]
  },
  {
   "cell_type": "markdown",
   "metadata": {},
   "source": [
    "$4.2818$"
   ]
  },
  {
   "cell_type": "code",
   "execution_count": 3,
   "metadata": {},
   "outputs": [
    {
     "name": "stdout",
     "output_type": "stream",
     "text": [
      "4.64931498953\n"
     ]
    }
   ],
   "source": [
    "value = np.mean(11 * np.log(exps) * np.sin(exps))\n",
    "print(value)"
   ]
  },
  {
   "cell_type": "code",
   "execution_count": 4,
   "metadata": {},
   "outputs": [
    {
     "name": "stdout",
     "output_type": "stream",
     "text": [
      "4.35111202721\n"
     ]
    }
   ],
   "source": [
    "exps = np.random.uniform(low=88, high=99, size=100000)\n",
    "value = np.mean(11 * np.log(exps) * np.sin(exps))\n",
    "print(value)"
   ]
  },
  {
   "cell_type": "markdown",
   "metadata": {},
   "source": [
    "Теперь решим $$\\iint\\limits_{|x| + |y| < 1}\\frac{x^3+3xy}{e^{-y}}dxdy = \\iint\\limits_{|x| + |y| < 1} \\frac{1}{2} \\cdot 2 \\cdot \\frac{x^3 + 3xy}{e^{-y}}dxdy \\approx \\frac{1}{n} \\sum\\limits_{i=1}^{n} 2 \\cdot \\frac{x_i^3 + 3x_iy_i}{e^{-y_i}}$$"
   ]
  },
  {
   "cell_type": "markdown",
   "metadata": {},
   "source": [
    "Правильное значение: $0$"
   ]
  },
  {
   "cell_type": "code",
   "execution_count": 5,
   "metadata": {},
   "outputs": [
    {
     "name": "stdout",
     "output_type": "stream",
     "text": [
      "-0.0306598626965\n"
     ]
    }
   ],
   "source": [
    "exps = np.random.uniform(low=-1/2**0.5, high=1/2**0.5, size=(10000, 2))\n",
    "M = np.array([[np.cos(np.pi / 4), -np.sin(np.pi / 4)], \n",
    "              [np.sin(np.pi / 4), np.cos(np.pi / 4)]])\n",
    "for i in range(len(exps)):\n",
    "    exps[i] = (M.dot(exps[i].reshape((2, 1)))).reshape((1, 2))\n",
    "x, y = exps.reshape((2, 10000))\n",
    "value = np.mean(2 * (x ** 3 + 3 * x * y) / np.exp(-y))\n",
    "print(value)"
   ]
  },
  {
   "cell_type": "markdown",
   "metadata": {},
   "source": [
    "Решим систему $x = Ax + f$ методом Монте-Карло"
   ]
  },
  {
   "cell_type": "code",
   "execution_count": 6,
   "metadata": {},
   "outputs": [
    {
     "name": "stdout",
     "output_type": "stream",
     "text": [
      "(37, 37) (37,)\n"
     ]
    }
   ],
   "source": [
    "data = np.genfromtxt('data/Юнусов.txt', delimiter=' ')\n",
    "A, f = data[:-1], data[-1]\n",
    "print(A.shape, f.shape)"
   ]
  },
  {
   "cell_type": "markdown",
   "metadata": {},
   "source": [
    "Как видим, все собственные значения матрицы меньше 1"
   ]
  },
  {
   "cell_type": "code",
   "execution_count": 7,
   "metadata": {},
   "outputs": [
    {
     "data": {
      "text/plain": [
       "0.0576739"
      ]
     },
     "execution_count": 7,
     "metadata": {},
     "output_type": "execute_result"
    }
   ],
   "source": [
    "np.max(A)"
   ]
  },
  {
   "cell_type": "code",
   "execution_count": 8,
   "metadata": {},
   "outputs": [
    {
     "name": "stdout",
     "output_type": "stream",
     "text": [
      "-0.00875601503225\n",
      "-0.0116750194937\n",
      "-0.00238197167137\n",
      "-0.000603520518509\n",
      "-0.000163411487571\n",
      "-4.45742467821e-05\n",
      "-1.21214950313e-05\n",
      "-3.27321585059e-06\n",
      "-8.8382187885e-07\n"
     ]
    }
   ],
   "source": [
    "from copy import deepcopy\n",
    "x_new = deepcopy(f)\n",
    "x_prev = deepcopy(f) - 1000\n",
    "while abs(np.max(x_prev - x_new)) > 0.00001:\n",
    "    x_prev = deepcopy(x_new)\n",
    "    x_new = A.dot(x_new) + f\n",
    "    print(np.max(x_new - A.dot(x_new) - f))"
   ]
  },
  {
   "cell_type": "code",
   "execution_count": 9,
   "metadata": {},
   "outputs": [
    {
     "name": "stdout",
     "output_type": "stream",
     "text": [
      "[ 9.10148361  0.63205519  9.70296316  6.70254425  2.54242549  2.48866104\n",
      "  4.13577141  7.62291524  9.72992637  6.20926665  4.93518637  6.38417904\n",
      "  2.05305854  7.34992873  0.76334514  0.76531959  0.69617921  0.74861612\n",
      "  6.8089143   7.1058568   9.72365022  7.90979749  3.39826224  2.37760994\n",
      "  7.63332616  2.31439282  7.55997939  4.26558595  9.42629839  6.49872663\n",
      "  5.99626742  4.86658138  7.15900301  0.07736657  0.69906862  2.90220351\n",
      "  0.        ]\n",
      "0.713502879248\n"
     ]
    }
   ],
   "source": [
    "N, m = 500, 10000\n",
    "H = np.eye(37)\n",
    "\n",
    "result = []\n",
    "for l in range(37):\n",
    "    Q, ksi = [0.] * (N + 1), [0.] * m\n",
    "    for j in range(m):\n",
    "        i = [np.random.randint(low=0, high=36) \n",
    "             for _ in range(N + 1)]\n",
    "        Q[0] = H[l][i[0]] * 37\n",
    "        for k in range(1, N + 1):\n",
    "            Q[k] = Q[k - 1] * A[i[k - 1]][i[k]] * 37\n",
    "        for k in range(N + 1):\n",
    "            ksi[j] += Q[k] * f[i[k]]\n",
    "    result.append(np.mean(ksi))\n",
    "\n",
    "result = np.array(result)\n",
    "print(result)\n",
    "print(np.max(result - A.dot(result) - f))"
   ]
  }
 ],
 "metadata": {
  "kernelspec": {
   "display_name": "Python 3",
   "language": "python",
   "name": "python3"
  },
  "language_info": {
   "codemirror_mode": {
    "name": "ipython",
    "version": 3
   },
   "file_extension": ".py",
   "mimetype": "text/x-python",
   "name": "python",
   "nbconvert_exporter": "python",
   "pygments_lexer": "ipython3",
   "version": "3.8.8"
  }
 },
 "nbformat": 4,
 "nbformat_minor": 1
}