{
 "cells": [
  {
   "cell_type": "heading",
   "metadata": {
    "collapsed": true
   },
   "level": 1,
   "source": [
    "Lab 3."
   ]
  },
  {
   "cell_type": "code",
   "execution_count": 1,
   "metadata": {},
   "outputs": [],
   "source": [
    "import numpy as np\n",
    "import pandas as pd\n",
    "import matplotlib.pyplot as plt\n",
    "from iism_lab3 import poisson_psi, exponential_psi, normal_psi\n",
    "%matplotlib inline"
   ]
  },
  {
   "cell_type": "code",
   "execution_count": 8,
   "metadata": {},
   "outputs": [
    {
     "name": "stdout",
     "output_type": "stream",
     "text": [
      "Распределение Пуассона\nE = 1.041\nD = 1.01258036718\n"
     ]
    }
   ],
   "source": [
    "psi1 = poisson_psi()\n",
    "res1 = pd.Series([next(psi1) for _ in range(1000)])\n",
    "print(\"Распределение Пуассона\")\n",
    "print(\"E =\", np.mean(res1))\n",
    "print(\"D =\", np.std(res1))"
   ]
  },
  {
   "cell_type": "code",
   "execution_count": null,
   "outputs": [],
   "source": [
    ""
   ]
  },
  {
   "cell_type": "code",
   "execution_count": 9,
   "metadata": {},
   "outputs": [
    {
     "name": "stdout",
     "output_type": "stream",
     "text": [
      "Нормальное распределение\nE = -0.00611609756098\nD = 0.979449180093\n"
     ]
    }
   ],
   "source": [
    "psi2 = normal_psi(12)\n",
    "res2 = pd.Series([next(psi2) for _ in range(1000)])\n",
    "print(\"Нормальное распределение\")\n",
    "print(\"E =\", np.mean(res2))\n",
    "print(\"D =\", np.std(res2))"
   ]
  },
  {
   "cell_type": "code",
   "execution_count": 11,
   "metadata": {},
   "outputs": [
    {
     "name": "stdout",
     "output_type": "stream",
     "text": [
      "Экспоненциальное распределение\nE =  0.486803277661\nD =  0.44626064994\n"
     ]
    }
   ],
   "source": [
    "psi3 = exponential_psi()\n",
    "res3 = pd.Series([next(psi3) for _ in range(1000)])\n",
    "print(\"Экспоненциальное распределение\")\n",
    "print(\"E = \", np.mean(res3))\n",
    "print(\"D = \", np.std(res3))"
   ]
  },
  {
   "cell_type": "code",
   "execution_count": null,
   "metadata": {},
   "outputs": [],
   "source": [
    ""
   ]
  }
 ],
 "metadata": {
  "kernelspec": {
   "display_name": "Python 2",
   "language": "python",
   "name": "python2"
  },
  "language_info": {
   "codemirror_mode": {
    "name": "ipython",
    "version": 2.0
   },
   "file_extension": ".py",
   "mimetype": "text/x-python",
   "name": "python",
   "nbconvert_exporter": "python",
   "pygments_lexer": "ipython2",
   "version": "2.7.6"
  }
 },
 "nbformat": 4,
 "nbformat_minor": 0
}